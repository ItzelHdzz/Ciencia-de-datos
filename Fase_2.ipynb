{
  "nbformat": 4,
  "nbformat_minor": 0,
  "metadata": {
    "colab": {
      "provenance": []
    },
    "kernelspec": {
      "name": "python3",
      "display_name": "Python 3"
    },
    "language_info": {
      "name": "python"
    }
  },
  "cells": [
    {
      "cell_type": "markdown",
      "source": [
        "**Instituto Tecnológico y de Estudios Superiores de Monterrey**\n",
        "\n",
        ">![image.png](data:image/png;base64,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)\n",
        "\n",
        "**Matemáticas y ciencia de datos para la toma de decisiones (Gpo 602)**\n",
        "\n",
        "**Fase 2:Entendimiento de los datos**\n",
        "\n",
        "**Alumna:**\n",
        ">Ana Itzel Hernández García | A01737526\n",
        "\n",
        "**Profesoras**\n",
        "\n",
        "*Azucena Bolaños Carrera*\n",
        "\n",
        "*Mariana Olivares Avalos*\n",
        "\n",
        "28/05/2023"
      ],
      "metadata": {
        "id": "5nUfXY2VV1b5"
      }
    },
    {
      "cell_type": "code",
      "source": [
        "#Datos personales\n",
        "edad = 18\n",
        "peso = 70\n",
        "altura = 163\n",
        "genero = \"Mujer\""
      ],
      "metadata": {
        "id": "zDi_VA9cIhtS"
      },
      "execution_count": null,
      "outputs": []
    },
    {
      "cell_type": "code",
      "execution_count": null,
      "metadata": {
        "id": "GMWLDU9uVOqT"
      },
      "outputs": [],
      "source": [
        "import pandas as pan"
      ]
    },
    {
      "cell_type": "code",
      "source": [
        "#Cargado de datos\n",
        "consumo = pan.read_excel(\"A01737526_EtiquetasNutrimentales.xlsx\")\n",
        "consumo"
      ],
      "metadata": {
        "colab": {
          "base_uri": "https://localhost:8080/",
          "height": 423
        },
        "id": "HqwjL6HRX-gb",
        "outputId": "b12edc70-afff-46f8-ba5b-d5b3053e2a0c"
      },
      "execution_count": null,
      "outputs": [
        {
          "output_type": "execute_result",
          "data": {
            "text/plain": [
              "         Fecha   Momento                 Nombre  Calorias (kcal)  \\\n",
              "0   2023-02-21  Desayuno        Avena con fruta              190   \n",
              "1   2023-02-21  Desayuno     Chocolate caliente              190   \n",
              "2   2023-02-21    Comida              Sandwich               339   \n",
              "3   2023-02-21    Comida           Papas fritas              153   \n",
              "4   2023-02-21     Cena              Palomitas               148   \n",
              "..         ...       ...                    ...              ...   \n",
              "221 2023-05-16  Desayuno                   café               38   \n",
              "222 2023-05-16    Comida       Carne al pastor               210   \n",
              "223 2023-05-16    Comida              Refresco               130   \n",
              "224 2023-05-16     Cena   Gelatina de chocolate              129   \n",
              "225 2023-05-16     Cena                    café               38   \n",
              "\n",
              "     Carbohidratos (g)  Lípidos (g)  Proteína (g)  Sodio (mg)  \n",
              "0                37.81         2.29          6.18       260.0  \n",
              "1                 5.47        29.90          8.80        95.0  \n",
              "2                17.54        25.75         18.76      1323.0  \n",
              "3                10.49        13.93          1.84       147.0  \n",
              "4                 7.60        17.00          2.90       250.0  \n",
              "..                 ...          ...           ...         ...  \n",
              "221               0.00         9.53          0.26         5.0  \n",
              "222               0.00        17.50         13.20       680.0  \n",
              "223               0.00        34.00          0.00        20.0  \n",
              "224              19.10         3.20          5.90        65.0  \n",
              "225               0.00         9.53          0.26         5.0  \n",
              "\n",
              "[226 rows x 8 columns]"
            ],
            "text/html": [
              "\n",
              "  <div id=\"df-7251ab87-c283-4a63-87c8-ae48baca574a\">\n",
              "    <div class=\"colab-df-container\">\n",
              "      <div>\n",
              "<style scoped>\n",
              "    .dataframe tbody tr th:only-of-type {\n",
              "        vertical-align: middle;\n",
              "    }\n",
              "\n",
              "    .dataframe tbody tr th {\n",
              "        vertical-align: top;\n",
              "    }\n",
              "\n",
              "    .dataframe thead th {\n",
              "        text-align: right;\n",
              "    }\n",
              "</style>\n",
              "<table border=\"1\" class=\"dataframe\">\n",
              "  <thead>\n",
              "    <tr style=\"text-align: right;\">\n",
              "      <th></th>\n",
              "      <th>Fecha</th>\n",
              "      <th>Momento</th>\n",
              "      <th>Nombre</th>\n",
              "      <th>Calorias (kcal)</th>\n",
              "      <th>Carbohidratos (g)</th>\n",
              "      <th>Lípidos (g)</th>\n",
              "      <th>Proteína (g)</th>\n",
              "      <th>Sodio (mg)</th>\n",
              "    </tr>\n",
              "  </thead>\n",
              "  <tbody>\n",
              "    <tr>\n",
              "      <th>0</th>\n",
              "      <td>2023-02-21</td>\n",
              "      <td>Desayuno</td>\n",
              "      <td>Avena con fruta</td>\n",
              "      <td>190</td>\n",
              "      <td>37.81</td>\n",
              "      <td>2.29</td>\n",
              "      <td>6.18</td>\n",
              "      <td>260.0</td>\n",
              "    </tr>\n",
              "    <tr>\n",
              "      <th>1</th>\n",
              "      <td>2023-02-21</td>\n",
              "      <td>Desayuno</td>\n",
              "      <td>Chocolate caliente</td>\n",
              "      <td>190</td>\n",
              "      <td>5.47</td>\n",
              "      <td>29.90</td>\n",
              "      <td>8.80</td>\n",
              "      <td>95.0</td>\n",
              "    </tr>\n",
              "    <tr>\n",
              "      <th>2</th>\n",
              "      <td>2023-02-21</td>\n",
              "      <td>Comida</td>\n",
              "      <td>Sandwich</td>\n",
              "      <td>339</td>\n",
              "      <td>17.54</td>\n",
              "      <td>25.75</td>\n",
              "      <td>18.76</td>\n",
              "      <td>1323.0</td>\n",
              "    </tr>\n",
              "    <tr>\n",
              "      <th>3</th>\n",
              "      <td>2023-02-21</td>\n",
              "      <td>Comida</td>\n",
              "      <td>Papas fritas</td>\n",
              "      <td>153</td>\n",
              "      <td>10.49</td>\n",
              "      <td>13.93</td>\n",
              "      <td>1.84</td>\n",
              "      <td>147.0</td>\n",
              "    </tr>\n",
              "    <tr>\n",
              "      <th>4</th>\n",
              "      <td>2023-02-21</td>\n",
              "      <td>Cena</td>\n",
              "      <td>Palomitas</td>\n",
              "      <td>148</td>\n",
              "      <td>7.60</td>\n",
              "      <td>17.00</td>\n",
              "      <td>2.90</td>\n",
              "      <td>250.0</td>\n",
              "    </tr>\n",
              "    <tr>\n",
              "      <th>...</th>\n",
              "      <td>...</td>\n",
              "      <td>...</td>\n",
              "      <td>...</td>\n",
              "      <td>...</td>\n",
              "      <td>...</td>\n",
              "      <td>...</td>\n",
              "      <td>...</td>\n",
              "      <td>...</td>\n",
              "    </tr>\n",
              "    <tr>\n",
              "      <th>221</th>\n",
              "      <td>2023-05-16</td>\n",
              "      <td>Desayuno</td>\n",
              "      <td>café</td>\n",
              "      <td>38</td>\n",
              "      <td>0.00</td>\n",
              "      <td>9.53</td>\n",
              "      <td>0.26</td>\n",
              "      <td>5.0</td>\n",
              "    </tr>\n",
              "    <tr>\n",
              "      <th>222</th>\n",
              "      <td>2023-05-16</td>\n",
              "      <td>Comida</td>\n",
              "      <td>Carne al pastor</td>\n",
              "      <td>210</td>\n",
              "      <td>0.00</td>\n",
              "      <td>17.50</td>\n",
              "      <td>13.20</td>\n",
              "      <td>680.0</td>\n",
              "    </tr>\n",
              "    <tr>\n",
              "      <th>223</th>\n",
              "      <td>2023-05-16</td>\n",
              "      <td>Comida</td>\n",
              "      <td>Refresco</td>\n",
              "      <td>130</td>\n",
              "      <td>0.00</td>\n",
              "      <td>34.00</td>\n",
              "      <td>0.00</td>\n",
              "      <td>20.0</td>\n",
              "    </tr>\n",
              "    <tr>\n",
              "      <th>224</th>\n",
              "      <td>2023-05-16</td>\n",
              "      <td>Cena</td>\n",
              "      <td>Gelatina de chocolate</td>\n",
              "      <td>129</td>\n",
              "      <td>19.10</td>\n",
              "      <td>3.20</td>\n",
              "      <td>5.90</td>\n",
              "      <td>65.0</td>\n",
              "    </tr>\n",
              "    <tr>\n",
              "      <th>225</th>\n",
              "      <td>2023-05-16</td>\n",
              "      <td>Cena</td>\n",
              "      <td>café</td>\n",
              "      <td>38</td>\n",
              "      <td>0.00</td>\n",
              "      <td>9.53</td>\n",
              "      <td>0.26</td>\n",
              "      <td>5.0</td>\n",
              "    </tr>\n",
              "  </tbody>\n",
              "</table>\n",
              "<p>226 rows × 8 columns</p>\n",
              "</div>\n",
              "      <button class=\"colab-df-convert\" onclick=\"convertToInteractive('df-7251ab87-c283-4a63-87c8-ae48baca574a')\"\n",
              "              title=\"Convert this dataframe to an interactive table.\"\n",
              "              style=\"display:none;\">\n",
              "        \n",
              "  <svg xmlns=\"http://www.w3.org/2000/svg\" height=\"24px\"viewBox=\"0 0 24 24\"\n",
              "       width=\"24px\">\n",
              "    <path d=\"M0 0h24v24H0V0z\" fill=\"none\"/>\n",
              "    <path d=\"M18.56 5.44l.94 2.06.94-2.06 2.06-.94-2.06-.94-.94-2.06-.94 2.06-2.06.94zm-11 1L8.5 8.5l.94-2.06 2.06-.94-2.06-.94L8.5 2.5l-.94 2.06-2.06.94zm10 10l.94 2.06.94-2.06 2.06-.94-2.06-.94-.94-2.06-.94 2.06-2.06.94z\"/><path d=\"M17.41 7.96l-1.37-1.37c-.4-.4-.92-.59-1.43-.59-.52 0-1.04.2-1.43.59L10.3 9.45l-7.72 7.72c-.78.78-.78 2.05 0 2.83L4 21.41c.39.39.9.59 1.41.59.51 0 1.02-.2 1.41-.59l7.78-7.78 2.81-2.81c.8-.78.8-2.07 0-2.86zM5.41 20L4 18.59l7.72-7.72 1.47 1.35L5.41 20z\"/>\n",
              "  </svg>\n",
              "      </button>\n",
              "      \n",
              "  <style>\n",
              "    .colab-df-container {\n",
              "      display:flex;\n",
              "      flex-wrap:wrap;\n",
              "      gap: 12px;\n",
              "    }\n",
              "\n",
              "    .colab-df-convert {\n",
              "      background-color: #E8F0FE;\n",
              "      border: none;\n",
              "      border-radius: 50%;\n",
              "      cursor: pointer;\n",
              "      display: none;\n",
              "      fill: #1967D2;\n",
              "      height: 32px;\n",
              "      padding: 0 0 0 0;\n",
              "      width: 32px;\n",
              "    }\n",
              "\n",
              "    .colab-df-convert:hover {\n",
              "      background-color: #E2EBFA;\n",
              "      box-shadow: 0px 1px 2px rgba(60, 64, 67, 0.3), 0px 1px 3px 1px rgba(60, 64, 67, 0.15);\n",
              "      fill: #174EA6;\n",
              "    }\n",
              "\n",
              "    [theme=dark] .colab-df-convert {\n",
              "      background-color: #3B4455;\n",
              "      fill: #D2E3FC;\n",
              "    }\n",
              "\n",
              "    [theme=dark] .colab-df-convert:hover {\n",
              "      background-color: #434B5C;\n",
              "      box-shadow: 0px 1px 3px 1px rgba(0, 0, 0, 0.15);\n",
              "      filter: drop-shadow(0px 1px 2px rgba(0, 0, 0, 0.3));\n",
              "      fill: #FFFFFF;\n",
              "    }\n",
              "  </style>\n",
              "\n",
              "      <script>\n",
              "        const buttonEl =\n",
              "          document.querySelector('#df-7251ab87-c283-4a63-87c8-ae48baca574a button.colab-df-convert');\n",
              "        buttonEl.style.display =\n",
              "          google.colab.kernel.accessAllowed ? 'block' : 'none';\n",
              "\n",
              "        async function convertToInteractive(key) {\n",
              "          const element = document.querySelector('#df-7251ab87-c283-4a63-87c8-ae48baca574a');\n",
              "          const dataTable =\n",
              "            await google.colab.kernel.invokeFunction('convertToInteractive',\n",
              "                                                     [key], {});\n",
              "          if (!dataTable) return;\n",
              "\n",
              "          const docLinkHtml = 'Like what you see? Visit the ' +\n",
              "            '<a target=\"_blank\" href=https://colab.research.google.com/notebooks/data_table.ipynb>data table notebook</a>'\n",
              "            + ' to learn more about interactive tables.';\n",
              "          element.innerHTML = '';\n",
              "          dataTable['output_type'] = 'display_data';\n",
              "          await google.colab.output.renderOutput(dataTable, element);\n",
              "          const docLink = document.createElement('div');\n",
              "          docLink.innerHTML = docLinkHtml;\n",
              "          element.appendChild(docLink);\n",
              "        }\n",
              "      </script>\n",
              "    </div>\n",
              "  </div>\n",
              "  "
            ]
          },
          "metadata": {},
          "execution_count": 2
        }
      ]
    },
    {
      "cell_type": "markdown",
      "source": [
        "**Cargado de datos:**\n",
        "\n",
        "Primero se importa la libreria Pandas\n",
        "\n",
        "Luego se sube el archivo de exel en el almacenamiento\n",
        "\n",
        "El comando *.read_excel* se ocupa para llamar los datos del archivo, los cuales se almacenan en la variable *consumo*\n",
        "\n",
        "Se llama la variable *consumo* para que se impriman los datos\n"
      ],
      "metadata": {
        "id": "WuIIcJxdYklD"
      }
    },
    {
      "cell_type": "markdown",
      "source": [
        "**Tipo de datos:** Adquiridos(externos)\n"
      ],
      "metadata": {
        "id": "VpUR9Jc5aPsP"
      }
    },
    {
      "cell_type": "code",
      "source": [
        "consumo.columns"
      ],
      "metadata": {
        "colab": {
          "base_uri": "https://localhost:8080/"
        },
        "id": "VEwZnHFsZ4ZP",
        "outputId": "cc5a8944-c02c-450a-ef45-653fe1141bea"
      },
      "execution_count": null,
      "outputs": [
        {
          "output_type": "execute_result",
          "data": {
            "text/plain": [
              "Index(['Fecha', 'Momento', 'Nombre', 'Calorias (kcal)', 'Carbohidratos (g)',\n",
              "       'Lípidos (g)', 'Proteína (g)', 'Sodio (mg)'],\n",
              "      dtype='object')"
            ]
          },
          "metadata": {},
          "execution_count": 3
        }
      ]
    },
    {
      "cell_type": "markdown",
      "source": [
        "Los atributos más prometedores son los que se encuentran en la *columna 'Calorias (kcal)'*\n",
        "\n",
        "Y los que se pueden excluir porque por el memento no son muy requeridos son *'Fecha'* y *'Momento'*"
      ],
      "metadata": {
        "id": "5wP5jnTuapOF"
      }
    },
    {
      "cell_type": "code",
      "source": [
        "consumo.info() #Ver la información"
      ],
      "metadata": {
        "colab": {
          "base_uri": "https://localhost:8080/"
        },
        "id": "MXoW01ALaoUW",
        "outputId": "cbb25e9b-f7bd-4ef6-b5d8-22a095be0372"
      },
      "execution_count": null,
      "outputs": [
        {
          "output_type": "stream",
          "name": "stdout",
          "text": [
            "<class 'pandas.core.frame.DataFrame'>\n",
            "RangeIndex: 226 entries, 0 to 225\n",
            "Data columns (total 8 columns):\n",
            " #   Column             Non-Null Count  Dtype         \n",
            "---  ------             --------------  -----         \n",
            " 0   Fecha              226 non-null    datetime64[ns]\n",
            " 1   Momento            226 non-null    object        \n",
            " 2   Nombre             226 non-null    object        \n",
            " 3   Calorias (kcal)    226 non-null    int64         \n",
            " 4   Carbohidratos (g)  226 non-null    float64       \n",
            " 5   Lípidos (g)        226 non-null    float64       \n",
            " 6   Proteína (g)       226 non-null    float64       \n",
            " 7   Sodio (mg)         226 non-null    float64       \n",
            "dtypes: datetime64[ns](1), float64(4), int64(1), object(2)\n",
            "memory usage: 14.2+ KB\n"
          ]
        }
      ]
    },
    {
      "cell_type": "code",
      "source": [
        "consumo.shape #Ver la cantidad de datos"
      ],
      "metadata": {
        "colab": {
          "base_uri": "https://localhost:8080/"
        },
        "id": "WHs0PyofcRND",
        "outputId": "f33748dc-d774-40b8-8e6d-581de20f1481"
      },
      "execution_count": null,
      "outputs": [
        {
          "output_type": "execute_result",
          "data": {
            "text/plain": [
              "(226, 8)"
            ]
          },
          "metadata": {},
          "execution_count": 7
        }
      ]
    },
    {
      "cell_type": "markdown",
      "source": [
        "Si se obtiene buena cantidad de datos para hacer una prediccion a futuro y que sea facil de interpretar  pero de preferencia se van a recolectar más."
      ],
      "metadata": {
        "id": "M9iFlMqucYFr"
      }
    },
    {
      "cell_type": "markdown",
      "source": [
        "No se estan fusionando fusionando varias fuentes de datos ya que solo se ocupa un archivo de excel"
      ],
      "metadata": {
        "id": "-fziTfeTdQjb"
      }
    },
    {
      "cell_type": "code",
      "source": [
        "226*8"
      ],
      "metadata": {
        "colab": {
          "base_uri": "https://localhost:8080/"
        },
        "id": "tmR0vWOMehCL",
        "outputId": "2b30d268-8a88-48a9-881f-f2e730b1813b"
      },
      "execution_count": null,
      "outputs": [
        {
          "output_type": "execute_result",
          "data": {
            "text/plain": [
              "1808"
            ]
          },
          "metadata": {},
          "execution_count": 8
        }
      ]
    },
    {
      "cell_type": "markdown",
      "source": [
        "La cantidad de datos es buena (1080 datos) y la calidad depende de la veracidad de la calculadora de calorias, la cual no siempre tenia registrados los alimentos que consumia pero tenia alternativas parecidas"
      ],
      "metadata": {
        "id": "dzlDPoEpeRGA"
      }
    },
    {
      "cell_type": "markdown",
      "source": [
        "**Hipotesis 1**\n",
        "\n",
        "El consumo de calorias es elevado llegando a generar sobre peso por lo cual el mejor escenario es disminuir el consumo de calorias."
      ],
      "metadata": {
        "id": "A4eFMdSDfLHj"
      }
    },
    {
      "cell_type": "markdown",
      "source": [
        "**Hipotesis 2**\n",
        "\n",
        "El consumo de calorias es ligeramente elvado, se tiene  un peso normal pero a largo plazo podría generar sobrepeso causando que sea mejor modificar el consumo de calorias"
      ],
      "metadata": {
        "id": "ULIUVrCrfkGw"
      }
    }
  ]
}